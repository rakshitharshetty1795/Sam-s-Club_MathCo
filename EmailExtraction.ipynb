{
 "cells": [
  {
   "cell_type": "code",
   "execution_count": 2,
   "id": "0444273e",
   "metadata": {},
   "outputs": [],
   "source": [
    "from pathlib import Path"
   ]
  },
  {
   "cell_type": "code",
   "execution_count": 3,
   "id": "74c8fa06",
   "metadata": {},
   "outputs": [],
   "source": [
    "import win32com.client\n",
    "import os\n"
   ]
  },
  {
   "cell_type": "code",
   "execution_count": 49,
   "id": "8a16573d",
   "metadata": {},
   "outputs": [
    {
     "data": {
      "text/plain": [
       "'C:\\\\Users\\\\RakshithaRShetty'"
      ]
     },
     "execution_count": 49,
     "metadata": {},
     "output_type": "execute_result"
    }
   ],
   "source": [
    "os.getcwd()"
   ]
  },
  {
   "cell_type": "code",
   "execution_count": 50,
   "id": "21337db4",
   "metadata": {},
   "outputs": [
    {
     "data": {
      "text/plain": [
       "WindowsPath('C:/Users/RakshithaRShetty')"
      ]
     },
     "execution_count": 50,
     "metadata": {},
     "output_type": "execute_result"
    }
   ],
   "source": [
    "Path.cwd()"
   ]
  },
  {
   "cell_type": "code",
   "execution_count": 69,
   "id": "f609e8ea",
   "metadata": {},
   "outputs": [],
   "source": [
    "output_dir=Path.cwd()/\"Output\""
   ]
  },
  {
   "cell_type": "code",
   "execution_count": 70,
   "id": "d2a62210",
   "metadata": {},
   "outputs": [],
   "source": [
    "output_dir1=output_dir.mkdir(parents=True,exist_ok=True)"
   ]
  },
  {
   "cell_type": "code",
   "execution_count": 71,
   "id": "c6013122",
   "metadata": {},
   "outputs": [],
   "source": [
    "outlook=win32com.client.Dispatch(\"Outlook.Application\").GetNamespace(\"MAPI\")"
   ]
  },
  {
   "cell_type": "code",
   "execution_count": 72,
   "id": "51a6edcc",
   "metadata": {},
   "outputs": [],
   "source": [
    "inbox=outlook.GetDefaultFolder(6)\n",
    "ibox1=inbox.Folders(\"Sam\")"
   ]
  },
  {
   "cell_type": "code",
   "execution_count": 73,
   "id": "cda671b4",
   "metadata": {},
   "outputs": [],
   "source": [
    "messages=ibox1.Items"
   ]
  },
  {
   "cell_type": "code",
   "execution_count": 75,
   "id": "35c50b33",
   "metadata": {},
   "outputs": [
    {
     "data": {
      "text/plain": [
       "WindowsPath('C:/Users/RakshithaRShetty/Output')"
      ]
     },
     "execution_count": 75,
     "metadata": {},
     "output_type": "execute_result"
    }
   ],
   "source": [
    "path=output_dir\n",
    "path"
   ]
  },
  {
   "cell_type": "code",
   "execution_count": 76,
   "id": "50d50b05",
   "metadata": {},
   "outputs": [],
   "source": [
    "\n",
    "for message in messages:\n",
    "    subject=message.Subject\n",
    "    body=message.body\n",
    "    attachments =message.Attachments\n",
    "    \n",
    "    for attachment in attachments:\n",
    "        attachment=attachments.Item(1)\n",
    "        attachment.SaveAsFile(os.path.join(path, str(attachment)))\n",
    "    \n",
    "   "
   ]
  },
  {
   "cell_type": "code",
   "execution_count": 28,
   "id": "ec019ee7",
   "metadata": {},
   "outputs": [],
   "source": []
  },
  {
   "cell_type": "code",
   "execution_count": 29,
   "id": "91d38bce",
   "metadata": {},
   "outputs": [],
   "source": [
    "\n"
   ]
  },
  {
   "cell_type": "code",
   "execution_count": null,
   "id": "99d695d7",
   "metadata": {},
   "outputs": [],
   "source": []
  }
 ],
 "metadata": {
  "kernelspec": {
   "display_name": "py",
   "language": "python",
   "name": "myenv"
  },
  "language_info": {
   "codemirror_mode": {
    "name": "ipython",
    "version": 3
   },
   "file_extension": ".py",
   "mimetype": "text/x-python",
   "name": "python",
   "nbconvert_exporter": "python",
   "pygments_lexer": "ipython3",
   "version": "3.10.8"
  }
 },
 "nbformat": 4,
 "nbformat_minor": 5
}
